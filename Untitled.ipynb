{
 "cells": [
  {
   "cell_type": "code",
   "execution_count": 1,
   "id": "0dad8a4f-4ade-40b3-9f80-ae55895086d3",
   "metadata": {},
   "outputs": [
    {
     "name": "stdout",
     "output_type": "stream",
     "text": [
      "Requirement already satisfied: scikit-learn in /home/dzmitry/.pyenv/versions/3.10.0/lib/python3.10/site-packages (1.6.1)\n",
      "Requirement already satisfied: joblib>=1.2.0 in /home/dzmitry/.pyenv/versions/3.10.0/lib/python3.10/site-packages (from scikit-learn) (1.4.2)\n",
      "Requirement already satisfied: numpy>=1.19.5 in /home/dzmitry/.pyenv/versions/3.10.0/lib/python3.10/site-packages (from scikit-learn) (2.2.4)\n",
      "Requirement already satisfied: threadpoolctl>=3.1.0 in /home/dzmitry/.pyenv/versions/3.10.0/lib/python3.10/site-packages (from scikit-learn) (3.6.0)\n",
      "Requirement already satisfied: scipy>=1.6.0 in /home/dzmitry/.pyenv/versions/3.10.0/lib/python3.10/site-packages (from scikit-learn) (1.15.2)\n",
      "\u001b[33mWARNING: You are using pip version 21.2.3; however, version 25.0.1 is available.\n",
      "You should consider upgrading via the '/home/dzmitry/.pyenv/versions/3.10.0/bin/python3.10 -m pip install --upgrade pip' command.\u001b[0m\n",
      "Note: you may need to restart the kernel to use updated packages.\n"
     ]
    }
   ],
   "source": [
    "pip install -U scikit-learn"
   ]
  },
  {
   "cell_type": "code",
   "execution_count": 2,
   "id": "e1c4274b-5407-4d86-b7a0-ae20f71be09e",
   "metadata": {},
   "outputs": [
    {
     "name": "stdout",
     "output_type": "stream",
     "text": [
      "Requirement already satisfied: pandas in /home/dzmitry/.pyenv/versions/3.10.0/lib/python3.10/site-packages (2.2.3)\n",
      "Requirement already satisfied: pytz>=2020.1 in /home/dzmitry/.pyenv/versions/3.10.0/lib/python3.10/site-packages (from pandas) (2025.2)\n",
      "Requirement already satisfied: numpy>=1.22.4 in /home/dzmitry/.pyenv/versions/3.10.0/lib/python3.10/site-packages (from pandas) (2.2.4)\n",
      "Requirement already satisfied: tzdata>=2022.7 in /home/dzmitry/.pyenv/versions/3.10.0/lib/python3.10/site-packages (from pandas) (2025.2)\n",
      "Requirement already satisfied: python-dateutil>=2.8.2 in /home/dzmitry/.pyenv/versions/3.10.0/lib/python3.10/site-packages (from pandas) (2.9.0.post0)\n",
      "Requirement already satisfied: six>=1.5 in /home/dzmitry/.pyenv/versions/3.10.0/lib/python3.10/site-packages (from python-dateutil>=2.8.2->pandas) (1.17.0)\n",
      "\u001b[33mWARNING: You are using pip version 21.2.3; however, version 25.0.1 is available.\n",
      "You should consider upgrading via the '/home/dzmitry/.pyenv/versions/3.10.0/bin/python3.10 -m pip install --upgrade pip' command.\u001b[0m\n",
      "Note: you may need to restart the kernel to use updated packages.\n"
     ]
    }
   ],
   "source": [
    "pip install pandas"
   ]
  },
  {
   "cell_type": "code",
   "execution_count": 3,
   "id": "7ea1833c-a853-4a15-9165-a98659e6d534",
   "metadata": {},
   "outputs": [
    {
     "name": "stdout",
     "output_type": "stream",
     "text": [
      "Requirement already satisfied: numpy in /home/dzmitry/.pyenv/versions/3.10.0/lib/python3.10/site-packages (2.2.4)\n",
      "\u001b[33mWARNING: You are using pip version 21.2.3; however, version 25.0.1 is available.\n",
      "You should consider upgrading via the '/home/dzmitry/.pyenv/versions/3.10.0/bin/python3.10 -m pip install --upgrade pip' command.\u001b[0m\n",
      "Note: you may need to restart the kernel to use updated packages.\n"
     ]
    }
   ],
   "source": [
    "pip install numpy"
   ]
  },
  {
   "cell_type": "code",
   "execution_count": 4,
   "id": "400bb186-fd47-4a73-8dbd-0db4bd17a4ab",
   "metadata": {},
   "outputs": [
    {
     "name": "stdout",
     "output_type": "stream",
     "text": [
      "Requirement already satisfied: matplotlib in /home/dzmitry/.pyenv/versions/3.10.0/lib/python3.10/site-packages (3.10.1)\n",
      "Requirement already satisfied: numpy>=1.23 in /home/dzmitry/.pyenv/versions/3.10.0/lib/python3.10/site-packages (from matplotlib) (2.2.4)\n",
      "Requirement already satisfied: cycler>=0.10 in /home/dzmitry/.pyenv/versions/3.10.0/lib/python3.10/site-packages (from matplotlib) (0.12.1)\n",
      "Requirement already satisfied: pillow>=8 in /home/dzmitry/.pyenv/versions/3.10.0/lib/python3.10/site-packages (from matplotlib) (11.1.0)\n",
      "Requirement already satisfied: packaging>=20.0 in /home/dzmitry/.pyenv/versions/3.10.0/lib/python3.10/site-packages (from matplotlib) (24.2)\n",
      "Requirement already satisfied: contourpy>=1.0.1 in /home/dzmitry/.pyenv/versions/3.10.0/lib/python3.10/site-packages (from matplotlib) (1.3.1)\n",
      "Requirement already satisfied: pyparsing>=2.3.1 in /home/dzmitry/.pyenv/versions/3.10.0/lib/python3.10/site-packages (from matplotlib) (3.2.3)\n",
      "Requirement already satisfied: python-dateutil>=2.7 in /home/dzmitry/.pyenv/versions/3.10.0/lib/python3.10/site-packages (from matplotlib) (2.9.0.post0)\n",
      "Requirement already satisfied: kiwisolver>=1.3.1 in /home/dzmitry/.pyenv/versions/3.10.0/lib/python3.10/site-packages (from matplotlib) (1.4.8)\n",
      "Requirement already satisfied: fonttools>=4.22.0 in /home/dzmitry/.pyenv/versions/3.10.0/lib/python3.10/site-packages (from matplotlib) (4.56.0)\n",
      "Requirement already satisfied: six>=1.5 in /home/dzmitry/.pyenv/versions/3.10.0/lib/python3.10/site-packages (from python-dateutil>=2.7->matplotlib) (1.17.0)\n",
      "\u001b[33mWARNING: You are using pip version 21.2.3; however, version 25.0.1 is available.\n",
      "You should consider upgrading via the '/home/dzmitry/.pyenv/versions/3.10.0/bin/python3.10 -m pip install --upgrade pip' command.\u001b[0m\n",
      "Note: you may need to restart the kernel to use updated packages.\n"
     ]
    }
   ],
   "source": [
    "pip install matplotlib"
   ]
  },
  {
   "cell_type": "code",
   "execution_count": 5,
   "id": "f4299034-0d2d-4cbf-abb2-c1d352216368",
   "metadata": {},
   "outputs": [
    {
     "name": "stdout",
     "output_type": "stream",
     "text": [
      "Requirement already satisfied: seaborn in /home/dzmitry/.pyenv/versions/3.10.0/lib/python3.10/site-packages (0.13.2)\n",
      "Requirement already satisfied: pandas>=1.2 in /home/dzmitry/.pyenv/versions/3.10.0/lib/python3.10/site-packages (from seaborn) (2.2.3)\n",
      "Requirement already satisfied: numpy!=1.24.0,>=1.20 in /home/dzmitry/.pyenv/versions/3.10.0/lib/python3.10/site-packages (from seaborn) (2.2.4)\n",
      "Requirement already satisfied: matplotlib!=3.6.1,>=3.4 in /home/dzmitry/.pyenv/versions/3.10.0/lib/python3.10/site-packages (from seaborn) (3.10.1)\n",
      "Requirement already satisfied: kiwisolver>=1.3.1 in /home/dzmitry/.pyenv/versions/3.10.0/lib/python3.10/site-packages (from matplotlib!=3.6.1,>=3.4->seaborn) (1.4.8)\n",
      "Requirement already satisfied: packaging>=20.0 in /home/dzmitry/.pyenv/versions/3.10.0/lib/python3.10/site-packages (from matplotlib!=3.6.1,>=3.4->seaborn) (24.2)\n",
      "Requirement already satisfied: fonttools>=4.22.0 in /home/dzmitry/.pyenv/versions/3.10.0/lib/python3.10/site-packages (from matplotlib!=3.6.1,>=3.4->seaborn) (4.56.0)\n",
      "Requirement already satisfied: cycler>=0.10 in /home/dzmitry/.pyenv/versions/3.10.0/lib/python3.10/site-packages (from matplotlib!=3.6.1,>=3.4->seaborn) (0.12.1)\n",
      "Requirement already satisfied: pillow>=8 in /home/dzmitry/.pyenv/versions/3.10.0/lib/python3.10/site-packages (from matplotlib!=3.6.1,>=3.4->seaborn) (11.1.0)\n",
      "Requirement already satisfied: contourpy>=1.0.1 in /home/dzmitry/.pyenv/versions/3.10.0/lib/python3.10/site-packages (from matplotlib!=3.6.1,>=3.4->seaborn) (1.3.1)\n",
      "Requirement already satisfied: pyparsing>=2.3.1 in /home/dzmitry/.pyenv/versions/3.10.0/lib/python3.10/site-packages (from matplotlib!=3.6.1,>=3.4->seaborn) (3.2.3)\n",
      "Requirement already satisfied: python-dateutil>=2.7 in /home/dzmitry/.pyenv/versions/3.10.0/lib/python3.10/site-packages (from matplotlib!=3.6.1,>=3.4->seaborn) (2.9.0.post0)\n",
      "Requirement already satisfied: pytz>=2020.1 in /home/dzmitry/.pyenv/versions/3.10.0/lib/python3.10/site-packages (from pandas>=1.2->seaborn) (2025.2)\n",
      "Requirement already satisfied: tzdata>=2022.7 in /home/dzmitry/.pyenv/versions/3.10.0/lib/python3.10/site-packages (from pandas>=1.2->seaborn) (2025.2)\n",
      "Requirement already satisfied: six>=1.5 in /home/dzmitry/.pyenv/versions/3.10.0/lib/python3.10/site-packages (from python-dateutil>=2.7->matplotlib!=3.6.1,>=3.4->seaborn) (1.17.0)\n",
      "\u001b[33mWARNING: You are using pip version 21.2.3; however, version 25.0.1 is available.\n",
      "You should consider upgrading via the '/home/dzmitry/.pyenv/versions/3.10.0/bin/python3.10 -m pip install --upgrade pip' command.\u001b[0m\n",
      "Note: you may need to restart the kernel to use updated packages.\n"
     ]
    }
   ],
   "source": [
    "pip install seaborn"
   ]
  },
  {
   "cell_type": "code",
   "execution_count": 6,
   "id": "011c6dc9-82ea-4779-b378-ca416f93437b",
   "metadata": {},
   "outputs": [
    {
     "name": "stdout",
     "output_type": "stream",
     "text": [
      "Overwriting requirements.txt\n"
     ]
    }
   ],
   "source": [
    "%%writefile requirements.txt\n",
    "numpy>=1.21.0\n",
    "pandas>=1.3.0\n",
    "matplotlib>=3.5.0\n",
    "seaborn>=0.11.2\n",
    "scikit-learn>=1.0.0\n",
    "jupyter>=1.0.0"
   ]
  },
  {
   "cell_type": "code",
   "execution_count": null,
   "id": "996bb1f8-21d2-4ff1-af25-d5e92c652d84",
   "metadata": {},
   "outputs": [],
   "source": []
  },
  {
   "cell_type": "code",
   "execution_count": null,
   "id": "a55ac844-2dae-4910-878e-67a31922fd48",
   "metadata": {},
   "outputs": [],
   "source": []
  }
 ],
 "metadata": {
  "kernelspec": {
   "display_name": "Python 3 (ipykernel)",
   "language": "python",
   "name": "python3"
  },
  "language_info": {
   "codemirror_mode": {
    "name": "ipython",
    "version": 3
   },
   "file_extension": ".py",
   "mimetype": "text/x-python",
   "name": "python",
   "nbconvert_exporter": "python",
   "pygments_lexer": "ipython3",
   "version": "3.10.0"
  }
 },
 "nbformat": 4,
 "nbformat_minor": 5
}
